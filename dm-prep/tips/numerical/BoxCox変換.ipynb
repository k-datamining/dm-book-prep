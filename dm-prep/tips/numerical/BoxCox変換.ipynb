{
 "cells": [
  {
   "cell_type": "markdown",
   "id": "9538b367",
   "metadata": {},
   "source": [
    "# BoxCox変換\n",
    "ドキュメント：[scipy.stats.boxcox](https://docs.scipy.org/doc/scipy/reference/generated/scipy.stats.boxcox.html)\n",
    "\n",
    "以下のような変換を数値に対して適用して、分布の形を正規分布に近づけます。\n",
    "$\n",
    "y = \\begin{cases} \n",
    "\\displaystyle \\frac{x^\\lambda - 1}{\\lambda} & \\lambda \\neq 0\\\\ \n",
    "\\log x & \\lambda = 0\\end{cases}\n",
    "$\n",
    "\n",
    "式の形から、この変換を数値データに適用するには、$x$は必ず非負の値を取る必要があります。負の値が含まれる場合には、全てを０より大きくするために定数を足すか[YeoJonson変換](YeoJonson変換)を使用することが考えられます。"
   ]
  },
  {
   "cell_type": "code",
   "execution_count": 1,
   "id": "d0146c19",
   "metadata": {
    "scrolled": false
   },
   "outputs": [
    {
     "data": {
      "image/png": "[encoded data removed]",
      "text/plain": [
       "<Figure size 432x288 with 1 Axes>"
      ]
     },
     "metadata": {
      "needs_background": "light"
     },
     "output_type": "display_data"
    }
   ],
   "source": [
    "from scipy import stats\n",
    "import matplotlib.pyplot as plt\n",
    "\n",
    "x = stats.loggamma.rvs(1, size=1000) + 10\n",
    "plt.hist(x)\n",
    "plt.show()"
   ]
  },
  {
   "cell_type": "code",
   "execution_count": 2,
   "id": "837fa4ba",
   "metadata": {},
   "outputs": [
    {
     "data": {
      "image/png": "[encoded data removed]",
      "text/plain": [
       "<Figure size 432x288 with 1 Axes>"
      ]
     },
     "metadata": {
      "needs_background": "light"
     },
     "output_type": "display_data"
    }
   ],
   "source": [
    "import numpy as np\n",
    "from scipy.stats import boxcox\n",
    "\n",
    "plt.hist(boxcox(x))\n",
    "plt.show()"
   ]
  }
 ],
 "metadata": {
  "kernelspec": {
   "display_name": "Python 3 (ipykernel)",
   "language": "python",
   "name": "python3"
  },
  "language_info": {
   "codemirror_mode": {
    "name": "ipython",
    "version": 3
   },
   "file_extension": ".py",
   "mimetype": "text/x-python",
   "name": "python",
   "nbconvert_exporter": "python",
   "pygments_lexer": "ipython3",
   "version": "3.8.5"
  }
 },
 "nbformat": 4,
 "nbformat_minor": 5
}
